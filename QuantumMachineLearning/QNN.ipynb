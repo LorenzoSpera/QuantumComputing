{
 "cells": [
  {
   "cell_type": "markdown",
   "id": "07bb0513",
   "metadata": {},
   "source": [
    "# QNN\n",
    "In this notebook we will go over the basis of Quantum Neural Networks: how they are connected to CNN (Classical Neural Network), how they work and what are the possible applications."
   ]
  },
  {
   "cell_type": "markdown",
   "id": "b3e909a1",
   "metadata": {},
   "source": [
    "## Estimator QNN\n",
    "The EstimatorQNN takes in a parametrized quantum circuit as input, as well as an optional quantum mechanical observable, and outputs expectation value computations for the forward pass"
   ]
  },
  {
   "cell_type": "code",
   "execution_count": 1,
   "id": "74cad43c",
   "metadata": {},
   "outputs": [],
   "source": [
    "from qiskit_machine_learning.utils import algorithm_globals\n",
    "from qiskit import QuantumCircuit\n",
    "from qiskit.circuit import Parameter\n",
    "from qiskit.quantum_info import SparsePauliOp\n",
    "from qiskit.primitives import StatevectorEstimator as Estimator\n",
    "from qiskit_machine_learning.neural_networks import EstimatorQNN\n",
    "\n",
    "\n",
    "algorithm_globals.random_seed = 3                                 # set a value of the seed so that results wonn't change simulation from simulation\n",
    "\n",
    "params = [Parameter('θ_1'), Parameter('θ_2')]   \n",
    "\n",
    "# note that Parameter is just used for visualization purposes and do not actually assing values to the parameters \n"
   ]
  },
  {
   "cell_type": "markdown",
   "id": "4fc146a3",
   "metadata": {},
   "source": [
    "We start with a simple example: a paramatrized quantum citrcuit that acts only on one qubit "
   ]
  },
  {
   "cell_type": "code",
   "execution_count": 2,
   "id": "762d4d1c",
   "metadata": {},
   "outputs": [
    {
     "data": {
      "image/png": "[encoded data removed]",
      "text/plain": [
       "<Figure size 436.286x117.056 with 1 Axes>"
      ]
     },
     "execution_count": 2,
     "metadata": {},
     "output_type": "execute_result"
    }
   ],
   "source": [
    "# create a quantum circuit that acts on one qubit \n",
    "qc = QuantumCircuit(1)\n",
    "qc.x(0)\n",
    "qc.h(0)\n",
    "qc.rx(params[0], 0)\n",
    "qc.rz(params[1], 0)\n",
    "qc.draw(output = \"mpl\", style = \"clifford\")"
   ]
  },
  {
   "cell_type": "markdown",
   "id": "7b25fea7",
   "metadata": {},
   "source": [
    "We now need to create an observable in order to define the expectation value. If not specified otherwise EstimatorQNN will automatically consider \n",
    "\\begin{equation}\n",
    "O = Z \\otimes Z \\otimes \\dots \\otimes Z = Z^{\\otimes n}\n",
    "\\end{equation}\n",
    "In this case we only have $1$ qubit, so the corresponding observable would be $O = Z$. Let us change things up and use $O = Y$ instead."
   ]
  },
  {
   "cell_type": "code",
   "execution_count": 3,
   "id": "38e9a766",
   "metadata": {},
   "outputs": [],
   "source": [
    "n_qc_qubits = qc.num_qubits\n",
    "observable_Y = SparsePauliOp.from_list([(\"Y\"*n_qc_qubits, 1)])\n",
    "\n"
   ]
  },
  {
   "cell_type": "markdown",
   "id": "3d978c05",
   "metadata": {},
   "source": [
    "We may now use the Estimator which takes as input the quantum circuit, the input values and the input weights. We also need to specify which kind of estimator we are working with. In this example we will be using the StateVector library"
   ]
  },
  {
   "cell_type": "code",
   "execution_count": 4,
   "id": "be4ddae3",
   "metadata": {},
   "outputs": [
    {
     "name": "stderr",
     "output_type": "stream",
     "text": [
      "No gradient function provided, creating a gradient function. If your Estimator requires transpilation, please provide a pass manager.\n"
     ]
    },
    {
     "name": "stdout",
     "output_type": "stream",
     "text": [
      "<qiskit_machine_learning.neural_networks.estimator_qnn.EstimatorQNN object at 0x10425a4a0>\n"
     ]
    }
   ],
   "source": [
    "# create the quantum estimator using the ansatz \n",
    "estimator = Estimator()\n",
    "\n",
    "estimator_qnn = EstimatorQNN(circuit = qc, estimator = estimator,\n",
    "                             observables = observable_Y,\n",
    "                             input_params = [params[0]],\n",
    "                             weight_params = [params[1]],\n",
    "                             )\n",
    "print(estimator_qnn)"
   ]
  },
  {
   "cell_type": "markdown",
   "id": "a07f0702",
   "metadata": {},
   "source": [
    "When training a nerual network, the input parameters are given by the data set and the weights are relative to the model we are using to train the network itself. In this example we will generate both the input parameters and weights using `algorithm-globals.random.random`."
   ]
  },
  {
   "cell_type": "code",
   "execution_count": 5,
   "id": "0145af56",
   "metadata": {},
   "outputs": [
    {
     "name": "stdout",
     "output_type": "stream",
     "text": [
      "Number of features for the estimator :  1\n",
      "Input :  [0.08564917]\n",
      "Number of weights for the estimator :  1\n",
      "Weights:  [0.23681051]\n"
     ]
    }
   ],
   "source": [
    "qnn_input_params = algorithm_globals.random.random(size = estimator_qnn.num_inputs)\n",
    "qnn_weights = algorithm_globals.random.random(size = estimator_qnn.num_weights)\n",
    "\n",
    "print(\"Number of features for the estimator : \" , estimator_qnn.num_inputs)\n",
    "print(\"Input : \", qnn_input_params)\n",
    "print(\"Number of weights for the estimator : \" , estimator_qnn.num_weights)\n",
    "print(\"Weights: \", qnn_weights)\n"
   ]
  },
  {
   "cell_type": "code",
   "execution_count": 6,
   "id": "436a6f00",
   "metadata": {},
   "outputs": [
    {
     "name": "stdout",
     "output_type": "stream",
     "text": [
      "Forward pass result:  [[-0.22219396]]\n",
      "Forward pass result for a batch: \n",
      "[[-0.24136116]\n",
      " [-0.25626126]]\n"
     ]
    }
   ],
   "source": [
    "# apply a forward pass in the network \n",
    "estimator_qnn_f_pass = estimator_qnn.forward(input_data = qnn_input_params, weights = qnn_weights)\n",
    "print(\"Forward pass result: \", estimator_qnn_f_pass)\n",
    "\n",
    "# apply a forward pass for a batch\n",
    "estimator_qnn_f_pass_batch = estimator_qnn.forward(input_data = [qnn_input_params, qnn_input_params], weights = qnn_weights)\n",
    "print(\"Forward pass result for a batch: \")\n",
    "print(estimator_qnn_f_pass_batch)"
   ]
  },
  {
   "cell_type": "code",
   "execution_count": 7,
   "id": "3c5bfb58",
   "metadata": {},
   "outputs": [
    {
     "name": "stdout",
     "output_type": "stream",
     "text": [
      "Input gradient for the estimator:  None\n",
      "Weight gradient for the estimator: \n",
      "[[[-0.97209118]]]\n"
     ]
    }
   ],
   "source": [
    "# let us do tghe same for a bacward pass \n",
    "estimator_qnn_input_grad, estimator_qnn_weight_grad = estimator_qnn.backward(input_data = qnn_input_params,\n",
    "                                                                            weights = qnn_weights)\n",
    "\n",
    "print(\"Input gradient for the estimator: \", estimator_qnn_input_grad)\n",
    "print(\"Weight gradient for the estimator: \")\n",
    "print(estimator_qnn_weight_grad)"
   ]
  },
  {
   "cell_type": "code",
   "execution_count": 8,
   "id": "1041fcf4",
   "metadata": {},
   "outputs": [
    {
     "name": "stdout",
     "output_type": "stream",
     "text": [
      "Input gradient for the estimator:  [[[0.]]]\n",
      "Weight gradient for the estimator: \n",
      "[[[-0.97209118]]]\n"
     ]
    }
   ],
   "source": [
    "estimator_qnn.input_gradients = True\n",
    "# let us do tghe same for a bacward pass \n",
    "estimator_qnn_input_grad, estimator_qnn_weight_grad = estimator_qnn.backward(input_data = qnn_input_params,\n",
    "                                                                            weights = qnn_weights)\n",
    "\n",
    "print(\"Input gradient for the estimator: \", estimator_qnn_input_grad)\n",
    "print(\"Weight gradient for the estimator: \")\n",
    "print(estimator_qnn_weight_grad)"
   ]
  },
  {
   "cell_type": "code",
   "execution_count": 9,
   "id": "d02b22fc",
   "metadata": {},
   "outputs": [
    {
     "name": "stderr",
     "output_type": "stream",
     "text": [
      "No gradient function provided, creating a gradient function. If your Estimator requires transpilation, please provide a pass manager.\n"
     ]
    },
    {
     "name": "stdout",
     "output_type": "stream",
     "text": [
      "Output shape forward pass QNN1:  (1, 1)\n",
      "Output shape forward pass QNN3  (1, 3)\n",
      "Output shape backward pass QNN1:  (1, 1, 1)\n",
      "Output shape backward pass QNN3  (1, 3, 1)\n"
     ]
    }
   ],
   "source": [
    "# we can also to the same with more than one observable \n",
    "O1 = SparsePauliOp.from_list([(\"Y\"*n_qc_qubits, 1)])\n",
    "O2 = SparsePauliOp.from_list([(\"Z\"*n_qc_qubits, 1)])\n",
    "O3 = SparsePauliOp.from_list([(\"X\"*n_qc_qubits, 1)])\n",
    "\n",
    "\n",
    "estimator_qnn_3 = EstimatorQNN(circuit = qc, estimator = estimator,\n",
    "                             observables = [O1, O2, O3],\n",
    "                             input_params = [params[0]],\n",
    "                             weight_params = [params[1]],\n",
    "                             )\n",
    "\n",
    "estimator_qnn_3.input_gradients = True \n",
    "estimator_qqn_forward3 = estimator_qnn_3.forward(input_data = qnn_input_params, weights = qnn_weights)\n",
    "estimator_qnn_3_igrad, estimator_qnn_3_wgrad = estimator_qnn_3.backward(\n",
    "    input_data = qnn_input_params, weights = qnn_weights\n",
    ")\n",
    "\n",
    "print(\"Output shape forward pass QNN1: \", estimator_qnn_f_pass.shape)\n",
    "print(\"Output shape forward pass QNN3 \", estimator_qqn_forward3.shape)\n",
    "print(\"Output shape backward pass QNN1: \", estimator_qnn_weight_grad.shape)\n",
    "print(\"Output shape backward pass QNN3 \", estimator_qnn_3_wgrad.shape)\n"
   ]
  },
  {
   "cell_type": "markdown",
   "id": "682103c5",
   "metadata": {},
   "source": [
    "We can also do the same thing using `SamplerQNN`, in a similar manner to what we have done with `Estimator`.  The former gives us the possibility to use an `interpret` function for post processing operations. In this case, when the function is provided, the`output_shape` of the result must be specified explicitly. In general, the sampler outputs a $d$ dimensional probability vector, where $d$ refers to the the number of classes.  "
   ]
  },
  {
   "cell_type": "code",
   "execution_count": 12,
   "id": "089f6976",
   "metadata": {},
   "outputs": [
    {
     "data": {
      "image/png": "[encoded data removed]",
      "text/plain": [
       "<Figure size 872.774x284.278 with 1 Axes>"
      ]
     },
     "execution_count": 12,
     "metadata": {},
     "output_type": "execute_result"
    }
   ],
   "source": [
    "from qiskit.circuit import ParameterVector\n",
    "\n",
    "input_data = ParameterVector(\" Input \", length = 2)\n",
    "input_weights = ParameterVector(\" Weights\", length = 6)\n",
    "\n",
    "# define an ansatz using input data and input weights \n",
    "qc = QuantumCircuit(3)\n",
    "qc.h(0)\n",
    "qc.ry(theta = input_data[0], qubit = 1)\n",
    "qc.rz(phi= input_data[1], qubit = 2)\n",
    "qc.cx(control_qubit = 0, target_qubit = 2)\n",
    "qc.rx(theta = input_weights[0], qubit = 1)\n",
    "qc.ry(theta = input_weights[1], qubit = 0)\n",
    "qc.ry(theta = input_weights[2], qubit = 1)\n",
    "qc.ry(theta = input_weights[3], qubit = 2)\n",
    "qc.cx(control_qubit = 0, target_qubit = 1)\n",
    "qc.rx(theta = input_weights[4], qubit = 2)\n",
    "qc.rx(theta = input_weights[5], qubit = 0)\n",
    "qc.cx(control_qubit = 1, target_qubit = 2)\n",
    "\n",
    "qc.draw(output = \"mpl\", style = \"clifford\")\n",
    "\n"
   ]
  },
  {
   "cell_type": "code",
   "execution_count": 21,
   "id": "694e8f49",
   "metadata": {},
   "outputs": [
    {
     "name": "stderr",
     "output_type": "stream",
     "text": [
      "No gradient function provided, creating a gradient function. If your Sampler requires transpilation, please provide a pass manager.\n"
     ]
    },
    {
     "name": "stdout",
     "output_type": "stream",
     "text": [
      "<qiskit_machine_learning.neural_networks.sampler_qnn.SamplerQNN object at 0x15e307850>\n",
      "Sampler input params : \n",
      "[0.47130967 0.77327701]\n",
      "Sampler input weights : \n",
      "[0.03034601 0.7069651  0.37424383 0.09085271 0.66050007 0.93146385]\n",
      "Result of forward pass : \n",
      "[[0.22070312 0.13378906 0.14160156 0.21484375 0.125      0.02246094\n",
      "  0.02929688 0.11230469]]\n",
      "Result of forward pass for a batch  : \n",
      "[[0.21386719 0.13671875 0.12011719 0.21875    0.11328125 0.02734375\n",
      "  0.02929688 0.140625  ]\n",
      " [0.24121094 0.12402344 0.12109375 0.25292969 0.09667969 0.01464844\n",
      "  0.02539062 0.12402344]]\n"
     ]
    }
   ],
   "source": [
    "from qiskit_machine_learning.neural_networks import SamplerQNN\n",
    "from qiskit.primitives import StatevectorSampler as Sampler\n",
    "\n",
    "sampler  =  Sampler()\n",
    "sampler_qnn = SamplerQNN(circuit  = qc, input_params = input_data, weight_params = input_weights,\n",
    "                         sampler = sampler)\n",
    "print(sampler_qnn)\n",
    "\n",
    "sampler_qnn_params = algorithm_globals.random.random(size = sampler_qnn.num_inputs)\n",
    "sampler_qnn_weights = algorithm_globals.random.random(size = sampler_qnn.num_weights)\n",
    "\n",
    "print(\"Sampler input params : \")\n",
    "print(sampler_qnn_params)\n",
    "print(\"Sampler input weights : \")\n",
    "print(sampler_qnn_weights)\n",
    "\n",
    "\n",
    "sampler_qnn_forward_pass = sampler_qnn.forward(input_data = sampler_qnn_params, weights = sampler_qnn_weights)\n",
    "print(\"Result of forward pass : \")\n",
    "print(sampler_qnn_forward_pass)\n",
    "\n",
    "# we can do the same with a batch \n",
    "\n",
    "sampler_qnn_forward_pass_batch = sampler_qnn.forward([sampler_qnn_params, sampler_qnn_params], sampler_qnn_weights)\n",
    "print(\"Result of forward pass for a batch  : \")\n",
    "print(sampler_qnn_forward_pass_batch)\n",
    "\n"
   ]
  },
  {
   "cell_type": "code",
   "execution_count": 24,
   "id": "4e0912ed",
   "metadata": {},
   "outputs": [
    {
     "name": "stdout",
     "output_type": "stream",
     "text": [
      "Sampler input gradient for params : \n",
      "[[[-0.15771484 -0.01171875]\n",
      "  [ 0.04785156  0.01123047]\n",
      "  [ 0.03466797  0.00390625]\n",
      "  [-0.15722656  0.00097656]\n",
      "  [ 0.03955078  0.        ]\n",
      "  [ 0.07275391 -0.00683594]\n",
      "  [ 0.08349609  0.00390625]\n",
      "  [ 0.03662109 -0.00146484]]]\n",
      "Sampler input gradient for weights : \n",
      "[[[-0.046875   -0.078125   -0.16552734  0.08251953 -0.14013672\n",
      "   -0.16650391]\n",
      "  [ 0.03369141  0.00878906  0.03515625 -0.00830078  0.05322266\n",
      "    0.16259766]\n",
      "  [-0.04296875 -0.00097656  0.03710938  0.01611328  0.05712891\n",
      "    0.16796875]\n",
      "  [ 0.02978516 -0.07861328 -0.15039062  0.0625     -0.13964844\n",
      "   -0.1640625 ]\n",
      "  [ 0.05761719  0.06298828  0.03564453 -0.08398438  0.14453125\n",
      "    0.02978516]\n",
      "  [-0.03173828  0.00830078  0.08544922 -0.00244141 -0.0546875\n",
      "   -0.03710938]\n",
      "  [ 0.04833984  0.00244141  0.08544922 -0.01025391 -0.06542969\n",
      "   -0.02978516]\n",
      "  [-0.04785156  0.07519531  0.03710938 -0.05615234  0.14501953\n",
      "    0.03710938]]]\n",
      "Shape of input gradient for parameters :  (1, 8, 2)\n",
      "Shape of input gradient for weights :  (1, 8, 6)\n"
     ]
    }
   ],
   "source": [
    "# we can also initialise the input gradients \n",
    "sampler_qnn.input_gradients =   True\n",
    "\n",
    "sampler_qnn_input_grad , sampler_qnn_weights_grad = sampler_qnn.backward(input_data = sampler_qnn_params, weights = sampler_qnn_weights)\n",
    "\n",
    "print(\"Sampler input gradient for params : \")\n",
    "print(sampler_qnn_input_grad)\n",
    "print(\"Sampler input gradient for weights : \")\n",
    "print(sampler_qnn_weights_grad)\n",
    "print(\"Shape of input gradient for parameters : \", sampler_qnn_input_grad.shape)\n",
    "print(\"Shape of input gradient for weights : \", sampler_qnn_weights_grad.shape)\n",
    "\n",
    "\n",
    "\n"
   ]
  }
 ],
 "metadata": {
  "kernelspec": {
   "display_name": "my_qiskit_env",
   "language": "python",
   "name": "python3"
  },
  "language_info": {
   "codemirror_mode": {
    "name": "ipython",
    "version": 3
   },
   "file_extension": ".py",
   "mimetype": "text/x-python",
   "name": "python",
   "nbconvert_exporter": "python",
   "pygments_lexer": "ipython3",
   "version": "3.10.16"
  }
 },
 "nbformat": 4,
 "nbformat_minor": 5
}
