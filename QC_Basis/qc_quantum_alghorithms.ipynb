{
 "cells": [
  {
   "cell_type": "code",
   "execution_count": 31,
   "metadata": {},
   "outputs": [],
   "source": [
    "# import \n",
    "import numpy as np \n",
    "import qiskit \n",
    "from qiskit import QuantumCircuit, ClassicalRegister\n",
    "from qiskit_aer import AerSimulator"
   ]
  },
  {
   "cell_type": "code",
   "execution_count": 32,
   "metadata": {},
   "outputs": [],
   "source": [
    "# generate a valid Deutch functio\n",
    "\n",
    "def deutsch_function(x):\n",
    "    \"\"\" Takes as input an integer between 1 and 4 in order to choose from one of the \n",
    "    possible deutsch functions\"\"\"\n",
    "\n",
    "    if x not in [1,2,3,4]:\n",
    "        raise ValueError('Input must be an integer between 1 and 4')\n",
    "\n",
    "    circuit = QuantumCircuit(2)\n",
    "\n",
    "    if (x == 2 or x ==  3):\n",
    "        circuit.cx(0,1)\n",
    "    if (x == 3 or x == 4 ):\n",
    "        circuit.x(1)\n",
    "\n",
    "    return circuit "
   ]
  },
  {
   "cell_type": "code",
   "execution_count": 33,
   "metadata": {},
   "outputs": [
    {
     "name": "stderr",
     "output_type": "stream",
     "text": [
      "/Users/lorenzospera/Library/Python/3.9/lib/python/site-packages/qiskit/visualization/circuit/matplotlib.py:266: FutureWarning: The default matplotlib drawer scheme will be changed to \"iqp\" in a following release. To silence this warning, specify the current default explicitly as style=\"clifford\", or the new default as style=\"iqp\".\n",
      "  self._style, def_font_ratio = load_style(self._style)\n"
     ]
    },
    {
     "data": {
      "image/png": "[encoded data removed]",
      "text/plain": [
       "<Figure size 287.294x200.667 with 1 Axes>"
      ]
     },
     "metadata": {},
     "output_type": "display_data"
    }
   ],
   "source": [
    "# display a specific circuit for a specific choice of the function\n",
    "circuit_3 = deutsch_function(3)\n",
    "display(circuit_3.draw(\"mpl\"))"
   ]
  },
  {
   "cell_type": "code",
   "execution_count": 34,
   "metadata": {},
   "outputs": [],
   "source": [
    "# define a function that implements the circuit \n",
    "\n",
    "def implement_circuit(function):\n",
    "    \"\"\" Function that implements the circuit used in Deutsch alghorithm.\n",
    "        The input of the function is a quantum circuit, in particular the \n",
    "        one we have defined above \n",
    "    \"\"\"\n",
    "\n",
    "    # build the required circuit \n",
    "    circuit_alghorithm = QuantumCircuit(2)              # we start with two qubits \n",
    "\n",
    "    # perform an Hadamard gate on both of the two qubits, first step of the alghorithm \n",
    "    circuit_alghorithm.h(0)\n",
    "    circuit_alghorithm.h(1)\n",
    "    circuit_alghorithm.barrier()\n",
    "\n",
    "    # then we apply the unitary operation on the two qubits \n",
    "    circuit_alghorithm.compose(function, inplace = True)\n",
    "    circuit_alghorithm.barrier()\n",
    "\n",
    "    # measure the final state of the system, in particular the state of the top qubit is the one we are interested in \n",
    "    a = ClassicalRegister(1, \"a\")                           # classical bit to store the result  \n",
    "    circuit_alghorithm.add_register(a)                      # add the register to the quantum circuit \n",
    "                    \n",
    "    circuit_alghorithm.measure(0, a)                        # store the outcome of the measure in the classical bt\n",
    "\n",
    "    return circuit_alghorithm"
   ]
  },
  {
   "cell_type": "code",
   "execution_count": 35,
   "metadata": {},
   "outputs": [
    {
     "data": {
      "image/png": "[encoded data removed]",
      "text/plain": [
       "<Figure size 621.739x284.278 with 1 Axes>"
      ]
     },
     "metadata": {},
     "output_type": "display_data"
    }
   ],
   "source": [
    "# we can now display the alghorithm using the fucntion we defined above \n",
    "circuit_alghorithm_3 = implement_circuit(circuit_3)\n",
    "display(circuit_alghorithm_3.draw(\"mpl\"))"
   ]
  },
  {
   "cell_type": "code",
   "execution_count": 36,
   "metadata": {},
   "outputs": [],
   "source": [
    "# define a function that implements the alghorithm and outputs the the desired result \n",
    "\n",
    "def deutsch_algo(function):\n",
    "    \"\"\" Function that takes as an input the circuit that implements the alghorithm \n",
    "    and outputs the desired result, if the function is balanced or constant\"\"\"\n",
    "    \n",
    "    circuit_test = implement_circuit(function)\n",
    "\n",
    "    result = AerSimulator().run(circuit_test, shots = 1, memory = True).result()\n",
    "    output = result.get_memory()\n",
    "\n",
    "    if output[0] == 0:\n",
    "        return \"f is constant \"\n",
    "    else:\n",
    "        return \"f is balanced \"\n",
    "    \n"
   ]
  },
  {
   "cell_type": "code",
   "execution_count": 38,
   "metadata": {},
   "outputs": [
    {
     "name": "stdout",
     "output_type": "stream",
     "text": [
      "f is balanced \n"
     ]
    }
   ],
   "source": [
    "# implement the alghorithm for the function defined above \n",
    "result = deutsch_algo(circuit_3)\n",
    "print(result)\n"
   ]
  }
 ],
 "metadata": {
  "kernelspec": {
   "display_name": "Python 3",
   "language": "python",
   "name": "python3"
  },
  "language_info": {
   "codemirror_mode": {
    "name": "ipython",
    "version": 3
   },
   "file_extension": ".py",
   "mimetype": "text/x-python",
   "name": "python",
   "nbconvert_exporter": "python",
   "pygments_lexer": "ipython3",
   "version": "3.9.6"
  }
 },
 "nbformat": 4,
 "nbformat_minor": 2
}
